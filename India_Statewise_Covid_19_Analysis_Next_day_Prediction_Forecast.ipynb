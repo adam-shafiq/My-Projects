{
  "nbformat": 4,
  "nbformat_minor": 0,
  "metadata": {
    "colab": {
      "name": "India Covid-19 - Analysis / Next day Prediction / Forecast.ipynb",
      "provenance": [],
      "collapsed_sections": []
    },
    "kernelspec": {
      "name": "python3",
      "display_name": "Python 3"
    }
  },
  "cells": [
    {
      "cell_type": "code",
      "metadata": {
        "id": "ediRu_VqB7mu",
        "colab_type": "code",
        "colab": {
          "base_uri": "https://localhost:8080/",
          "height": 35
        },
        "outputId": "260e254a-75ac-4300-8e6a-ac93351d5a3c"
      },
      "source": [
        "from google.colab import drive\n",
        "drive.mount('/content/drive')"
      ],
      "execution_count": null,
      "outputs": [
        {
          "output_type": "stream",
          "text": [
            "Drive already mounted at /content/drive; to attempt to forcibly remount, call drive.mount(\"/content/drive\", force_remount=True).\n"
          ],
          "name": "stdout"
        }
      ]
    },
    {
      "cell_type": "code",
      "metadata": {
        "id": "KGvYq-JzB1vl",
        "colab_type": "code",
        "colab": {
          "base_uri": "https://localhost:8080/",
          "height": 88
        },
        "outputId": "58b19fb0-46d2-40ed-804a-7da15ab7f1bb"
      },
      "source": [
        "state = input(\"For which state do you want to see the Covid-19 Analysis? \")\n",
        "print('\\n')\n",
        "print('Thank you for showing interest in ' + str(state)+ '. Scroll down to see the Covid-19 analysis of '+ str(state)+ '.')\n",
        "split = .93"
      ],
      "execution_count": null,
      "outputs": [
        {
          "output_type": "stream",
          "text": [
            "For which state do you want to see the Covid-19 Analysis? West Bengal\n",
            "\n",
            "\n",
            "Thank you for showing interest in West Bengal. Scroll down to see the Covid-19 analysis of West Bengal.\n"
          ],
          "name": "stdout"
        }
      ]
    },
    {
      "cell_type": "code",
      "metadata": {
        "id": "_pnNHVgf8cot",
        "colab_type": "code",
        "colab": {}
      },
      "source": [
        "%%capture\n",
        "import numpy as np\n",
        "import pandas as pd\n",
        "from statsmodels.tools.eval_measures import rmse\n",
        "import matplotlib.pyplot as plt\n",
        "%matplotlib inline\n",
        "import seaborn as sns\n",
        "import datetime\n",
        "from datetime import date\n",
        "from datetime import datetime\n",
        "\n",
        "!pip install lazypredict\n",
        "!pip install catboost\n",
        "!pip install lightgbm\n",
        "from sklearn.utils import shuffle\n",
        "\n",
        "from tqdm import tqdm\n",
        "import time\n",
        "import sklearn\n",
        "from sklearn.pipeline import Pipeline\n",
        "from sklearn.impute import SimpleImputer, MissingIndicator\n",
        "from sklearn.preprocessing import StandardScaler, OneHotEncoder, OrdinalEncoder\n",
        "from sklearn.compose import ColumnTransformer\n",
        "from sklearn.utils.testing import all_estimators\n",
        "from sklearn.base import RegressorMixin\n",
        "from sklearn.metrics import accuracy_score, balanced_accuracy_score, roc_auc_score, f1_score, r2_score, mean_squared_error\n",
        "import warnings\n",
        "import xgboost\n",
        "import catboost\n",
        "import lightgbm"
      ],
      "execution_count": null,
      "outputs": []
    },
    {
      "cell_type": "code",
      "metadata": {
        "id": "qwMa2ZPiD-lz",
        "colab_type": "code",
        "colab": {}
      },
      "source": [
        "#Raw data\n",
        "data_tests = pd.read_csv(\"/content/drive/My Drive/Covid19 India/Tests_edited.csv\")\n",
        "data_cases = pd.read_csv(\"/content/drive/My Drive/Covid19 India/Cases_edited.csv\")"
      ],
      "execution_count": null,
      "outputs": []
    },
    {
      "cell_type": "code",
      "metadata": {
        "id": "InSi00PZRMoC",
        "colab_type": "code",
        "colab": {
          "base_uri": "https://localhost:8080/",
          "height": 124
        },
        "outputId": "93cdc4fa-44ab-4d13-be39-c4ecdd19d8ed"
      },
      "source": [
        "for i in range(len(data_cases)):\n",
        "  data_cases.Date.iloc[i] = datetime.fromordinal(datetime(1900, 1, 1).toordinal() + data_cases.Date.iloc[i] - 2)\n",
        "data_cases['Date'] = data_cases['Date'].dt.strftime('%m/%d/%Y')\n",
        "\n",
        "for i in range(len(data_tests)):\n",
        "  data_tests.Date.iloc[i] = datetime.fromordinal(datetime(1900, 1, 1).toordinal() + data_tests.Date.iloc[i] - 2)\n",
        "data_tests['Date'] = data_tests['Date'].dt.strftime('%m/%d/%Y')\n",
        "\n",
        "last_day = data_tests[-1:].iloc[0,0]\n",
        "print('Complete data is updated till '+str(last_day)+'.')"
      ],
      "execution_count": null,
      "outputs": [
        {
          "output_type": "stream",
          "text": [
            "/usr/local/lib/python3.6/dist-packages/pandas/core/indexing.py:671: SettingWithCopyWarning: \n",
            "A value is trying to be set on a copy of a slice from a DataFrame\n",
            "\n",
            "See the caveats in the documentation: https://pandas.pydata.org/pandas-docs/stable/user_guide/indexing.html#returning-a-view-versus-a-copy\n",
            "  self._setitem_with_indexer(indexer, value)\n"
          ],
          "name": "stderr"
        },
        {
          "output_type": "stream",
          "text": [
            "Complete data is updated till 07/20/2020.\n"
          ],
          "name": "stdout"
        }
      ]
    },
    {
      "cell_type": "code",
      "metadata": {
        "id": "SBicTgJ6r35F",
        "colab_type": "code",
        "colab": {
          "base_uri": "https://localhost:8080/",
          "height": 313
        },
        "outputId": "9a3a8953-c30a-45ec-8104-94aba61d0805"
      },
      "source": [
        "plt.figure(figsize=(25,5))\n",
        "sns.lineplot(x=\"Date\", y=\"Confirmed\", data=data_cases[data_cases['State/UnionTerritory'] == state ][-15:], Label = 'Confirmed Cases').set_title('Confirmed cases, Cured cases and Deaths in last 15 days - Day-wise for '+ str(state))\n",
        "sns.lineplot(x=\"Date\", y=\"Cured\", data=data_cases[data_cases['State/UnionTerritory'] == state ][-15:], Label = 'Cured Cases').set_title('Confirmed cases, Cured cases and Deaths in last 15 days - Day-wise for '+ str(state))\n",
        "sns.lineplot(x=\"Date\", y=\"Deaths\", data=data_cases[data_cases['State/UnionTerritory'] == state ][-15:], Label = 'Deaths').set_title('Confirmed cases, Cured cases and Deaths in last 15 days - Day-wise for '+ str(state))\n",
        "plt.show()"
      ],
      "execution_count": null,
      "outputs": [
        {
          "output_type": "display_data",
          "data": {
            "image/png": "[encoded data removed]",
            "text/plain": [
              "<Figure size 1800x360 with 1 Axes>"
            ]
          },
          "metadata": {
            "tags": [],
            "needs_background": "light"
          }
        }
      ]
    },
    {
      "cell_type": "code",
      "metadata": {
        "id": "DP96MGlWOjL7",
        "colab_type": "code",
        "colab": {
          "base_uri": "https://localhost:8080/",
          "height": 367
        },
        "outputId": "077df75b-2aca-4723-ac55-e504918ac3b3"
      },
      "source": [
        "#Active Cases Absolute Count\n",
        "data_cases['Active Cases'] =  data_cases['Confirmed'] - data_cases['Cured'] - data_cases['Deaths']  \n",
        "plt.figure(figsize=(25,5))\n",
        "sns.lineplot(x=\"Date\", y=\"Active Cases\", data=data_cases[data_cases['State/UnionTerritory'] == state ][-15:]).set_title('Active Cases Count Last 15 days Day-wise for '+ str(state))\n",
        "plt.show()\n",
        "\n",
        "print('\\n')\n",
        "print('No. of Active Cases = No. of Confirmed Cases - No. of Recovered Cases - No. of Deaths')"
      ],
      "execution_count": null,
      "outputs": [
        {
          "output_type": "display_data",
          "data": {
            "image/png": "[encoded data removed]",
            "text/plain": [
              "<Figure size 1800x360 with 1 Axes>"
            ]
          },
          "metadata": {
            "tags": [],
            "needs_background": "light"
          }
        },
        {
          "output_type": "stream",
          "text": [
            "\n",
            "\n",
            "No. of Active Cases = No. of Confirmed Cases - No. of Recovered Cases - No. of Deaths\n"
          ],
          "name": "stdout"
        }
      ]
    },
    {
      "cell_type": "code",
      "metadata": {
        "id": "gDsRCyyrkSyp",
        "colab_type": "code",
        "colab": {
          "base_uri": "https://localhost:8080/",
          "height": 369
        },
        "outputId": "57ebe7d1-7f79-48bb-8a91-19dc500fb4eb"
      },
      "source": [
        "#Active Cases ratio Count\n",
        "data_cases['Active Cases ratio'] =  data_cases['Active Cases']/data_cases['Confirmed']\n",
        "plt.figure(figsize=(25,5))\n",
        "sns.lineplot(x=\"Date\", y=\"Active Cases ratio\", data=data_cases[data_cases['State/UnionTerritory'] == state][-15:], Label = 'Active Cases Ratio for '+ str(state)).set_title('Active Cases ratio Ratio Last 15 days Day-wise for '+ str(state))\n",
        "plt.show()\n",
        "\n",
        "print('\\n')\n",
        "print('Active Cases ratio Ratio = No. of Active Cases/No. of Confirmed Cases')"
      ],
      "execution_count": null,
      "outputs": [
        {
          "output_type": "display_data",
          "data": {
            "image/png": "[encoded data removed]",
            "text/plain": [
              "<Figure size 1800x360 with 1 Axes>"
            ]
          },
          "metadata": {
            "tags": [],
            "needs_background": "light"
          }
        },
        {
          "output_type": "stream",
          "text": [
            "\n",
            "\n",
            "Active Cases ratio Ratio = No. of Active Cases/No. of Confirmed Cases\n"
          ],
          "name": "stdout"
        }
      ]
    },
    {
      "cell_type": "code",
      "metadata": {
        "id": "lvoycUGG-RvI",
        "colab_type": "code",
        "colab": {
          "base_uri": "https://localhost:8080/",
          "height": 367
        },
        "outputId": "7c8a44ef-0dce-428c-b345-f24a78d719f1"
      },
      "source": [
        "#Tests-Positive ratio\n",
        "data_tests['Tests-Positive ratio'] = data_tests['Positive']/data_tests['TotalSamples']\n",
        "plt.figure(figsize=(25,5))\n",
        "sns.lineplot(x=\"Date\", y=\"Tests-Positive ratio\", data=data_tests[data_tests['State'] == state ][-15:],Label = 'Positive Tests ratio').set_title('Positive Tests ratio day-wise for '+ str(state))\n",
        "plt.show()\n",
        "\n",
        "print('\\n')\n",
        "print('Positive Tests ratio = No. of people Tested as Covid-19 Positive/No. of Tests done')"
      ],
      "execution_count": null,
      "outputs": [
        {
          "output_type": "display_data",
          "data": {
            "image/png": "[encoded data removed]",
            "text/plain": [
              "<Figure size 1800x360 with 1 Axes>"
            ]
          },
          "metadata": {
            "tags": [],
            "needs_background": "light"
          }
        },
        {
          "output_type": "stream",
          "text": [
            "\n",
            "\n",
            "Positive Tests ratio = No. of people Tested as Covid-19 Positive/No. of Tests done\n"
          ],
          "name": "stdout"
        }
      ]
    },
    {
      "cell_type": "code",
      "metadata": {
        "id": "DFxQQQFbk5hN",
        "colab_type": "code",
        "colab": {
          "base_uri": "https://localhost:8080/",
          "height": 367
        },
        "outputId": "0edacc11-68f4-4d8f-bfdd-f79664702fc2"
      },
      "source": [
        "#Mortality Ratio\n",
        "data_cases['Mortality'] =  data_cases['Deaths']/data_cases['Confirmed']\n",
        "plt.figure(figsize=(25,5))\n",
        "sns.lineplot(x=\"Date\", y=\"Mortality\", data=data_cases[data_cases['State/UnionTerritory'] == state][-15:], Label = 'Mortality').set_title('Mortality Ratio Last 15 days Day-wise for '+ str(state))\n",
        "plt.show()\n",
        "\n",
        "\n",
        "print('\\n')\n",
        "print('Mortality Ratio = No. of Deaths/No. of Confirmed Cases')"
      ],
      "execution_count": null,
      "outputs": [
        {
          "output_type": "display_data",
          "data": {
            "image/png": "[encoded data removed]",
            "text/plain": [
              "<Figure size 1800x360 with 1 Axes>"
            ]
          },
          "metadata": {
            "tags": [],
            "needs_background": "light"
          }
        },
        {
          "output_type": "stream",
          "text": [
            "\n",
            "\n",
            "Mortality Ratio = No. of Deaths/No. of Confirmed Cases\n"
          ],
          "name": "stdout"
        }
      ]
    },
    {
      "cell_type": "code",
      "metadata": {
        "id": "Z9xUQV_R3X-4",
        "colab_type": "code",
        "colab": {}
      },
      "source": [
        "#Raw data\n",
        "data_tests = pd.read_csv(\"/content/drive/My Drive/Covid19 India/Tests_edited.csv\")\n",
        "data_cases = pd.read_csv(\"/content/drive/My Drive/Covid19 India/Cases_edited.csv\")"
      ],
      "execution_count": null,
      "outputs": []
    },
    {
      "cell_type": "code",
      "metadata": {
        "colab_type": "code",
        "id": "jdXBipnS3res",
        "colab": {}
      },
      "source": [
        "data_tests['Tests-Positive ratio'] = data_tests['Positive']/data_tests['TotalSamples']\n",
        "data_cases['Active Cases'] =  data_cases['Confirmed'] - data_cases['Cured'] - data_cases['Deaths']\n",
        "data_cases['Active Cases ratio'] =  data_cases['Active Cases']/data_cases['Confirmed']\n",
        "data_cases['Mortality'] =  data_cases['Deaths']/data_cases['Confirmed']"
      ],
      "execution_count": null,
      "outputs": []
    },
    {
      "cell_type": "code",
      "metadata": {
        "id": "Wui1H2nFw1nt",
        "colab_type": "code",
        "colab": {
          "base_uri": "https://localhost:8080/",
          "height": 106
        },
        "outputId": "ee5fec45-8639-4b09-ab28-806ba0f67502"
      },
      "source": [
        "data_cases = data_cases[data_cases['State/UnionTerritory'] == state]\n",
        "data_tests = data_tests[data_tests['State'] == state]\n",
        "df = pd.merge(data_cases, data_tests, on='Date')\n",
        "df = df.drop(['State'], axis=1)\n",
        "df = df.dropna()\n",
        "df = df.reset_index(drop=True)\n",
        "for i in range(len(df)):\n",
        "  df.Date.iloc[i] = datetime.fromordinal(datetime(1900, 1, 1).toordinal() + df.Date.iloc[i] - 2)\n",
        "df['Date'] = df['Date'].dt.strftime('%m/%d/%Y')\n",
        "df_cal = df"
      ],
      "execution_count": null,
      "outputs": [
        {
          "output_type": "stream",
          "text": [
            "/usr/local/lib/python3.6/dist-packages/pandas/core/indexing.py:671: SettingWithCopyWarning: \n",
            "A value is trying to be set on a copy of a slice from a DataFrame\n",
            "\n",
            "See the caveats in the documentation: https://pandas.pydata.org/pandas-docs/stable/user_guide/indexing.html#returning-a-view-versus-a-copy\n",
            "  self._setitem_with_indexer(indexer, value)\n"
          ],
          "name": "stderr"
        }
      ]
    },
    {
      "cell_type": "code",
      "metadata": {
        "id": "dSUc1Sfxeyfi",
        "colab_type": "code",
        "colab": {
          "base_uri": "https://localhost:8080/",
          "height": 106
        },
        "outputId": "9656e926-fe84-48af-c590-0be3b93c5bf9"
      },
      "source": [
        "df_cal['Target'] = df_cal['Active Cases']\n",
        "df_cal['Target'][0:-1] = df_cal['Active Cases'][1:]\n",
        "df = df_cal[:-1]"
      ],
      "execution_count": null,
      "outputs": [
        {
          "output_type": "stream",
          "text": [
            "/usr/local/lib/python3.6/dist-packages/ipykernel_launcher.py:2: SettingWithCopyWarning: \n",
            "A value is trying to be set on a copy of a slice from a DataFrame\n",
            "\n",
            "See the caveats in the documentation: https://pandas.pydata.org/pandas-docs/stable/user_guide/indexing.html#returning-a-view-versus-a-copy\n",
            "  \n"
          ],
          "name": "stderr"
        }
      ]
    },
    {
      "cell_type": "code",
      "metadata": {
        "id": "p2Y10pvvgq9y",
        "colab_type": "code",
        "colab": {}
      },
      "source": [
        "X, y = df.iloc[:,2:11], df.Target\n",
        "X = X.astype(np.float32)\n",
        "offset = int(X.shape[0] * split)\n",
        "X_train, y_train = X[:offset], y[:offset]\n",
        "X_test, y_test = X[offset:], y[offset:]\n",
        "data_tom = df_cal[-1:].iloc[:,2:11]"
      ],
      "execution_count": null,
      "outputs": []
    },
    {
      "cell_type": "code",
      "metadata": {
        "id": "XBLd6hFdcJdT",
        "colab_type": "code",
        "colab": {}
      },
      "source": [
        "warnings.filterwarnings(\"ignore\")\n",
        "pd.set_option(\"display.precision\", 2)\n",
        "pd.set_option(\"display.float_format\", lambda x: '%.2f' % x)"
      ],
      "execution_count": null,
      "outputs": []
    },
    {
      "cell_type": "code",
      "metadata": {
        "id": "OAC9nBhCcP_G",
        "colab_type": "code",
        "colab": {}
      },
      "source": [
        "REGRESSORS = [est for est in all_estimators() if issubclass(est[1], RegressorMixin)]\n",
        "\n",
        "removed_regressors = [('TheilSenRegressor', sklearn.linear_model.theil_sen.TheilSenRegressor),\n",
        " ('ARDRegression', sklearn.linear_model.ARDRegression),\n",
        " ('CCA', sklearn.cross_decomposition.CCA),\n",
        " ('IsotonicRegression', sklearn.isotonic.IsotonicRegression),\n",
        " ('MultiOutputRegressor', sklearn.multioutput.MultiOutputRegressor),\n",
        " ('MultiTaskElasticNet',\n",
        "  sklearn.linear_model.MultiTaskElasticNet),\n",
        " ('MultiTaskElasticNetCV',\n",
        "  sklearn.linear_model.MultiTaskElasticNetCV),\n",
        " ('MultiTaskLasso', sklearn.linear_model.MultiTaskLasso),\n",
        " ('MultiTaskLassoCV',\n",
        "  sklearn.linear_model.MultiTaskLassoCV),\n",
        " ('PLSCanonical', sklearn.cross_decomposition.PLSCanonical),\n",
        " ('PLSRegression', sklearn.cross_decomposition.PLSRegression),\n",
        " ('RadiusNeighborsRegressor',\n",
        "  sklearn.neighbors.RadiusNeighborsRegressor),\n",
        " ('RegressorChain', sklearn.multioutput.RegressorChain),\n",
        " ('VotingRegressor', sklearn.ensemble.VotingRegressor),\n",
        " ('_SigmoidCalibration', sklearn.calibration._SigmoidCalibration)]\n",
        "\n",
        "for i in removed_regressors:\n",
        "    REGRESSORS.pop(REGRESSORS.index(i))\n",
        "    \n",
        "REGRESSORS.append(('XGBRegressor', xgboost.XGBRegressor))\n",
        "REGRESSORS.append(('LGBMRegressor',lightgbm.LGBMRegressor))\n",
        "REGRESSORS.append(('CatBoostRegressor',catboost.CatBoostRegressor))"
      ],
      "execution_count": null,
      "outputs": []
    },
    {
      "cell_type": "code",
      "metadata": {
        "id": "sA_g9rEfgrtC",
        "colab_type": "code",
        "colab": {}
      },
      "source": [
        "numeric_transformer = Pipeline(steps=[\n",
        "    ('imputer', SimpleImputer(strategy='mean')),\n",
        "    ('scaler', StandardScaler())\n",
        "])\n",
        "\n",
        "categorical_transformer_low = Pipeline(steps=[\n",
        "    ('imputer', SimpleImputer(strategy='constant', fill_value='missing')),\n",
        "    ('encoding', OneHotEncoder(handle_unknown='ignore', sparse=False))\n",
        "])\n",
        "\n",
        "categorical_transformer_high = Pipeline(steps=[\n",
        "    ('imputer', SimpleImputer(strategy='constant', fill_value='missing')),\n",
        "    # 'OrdianlEncoder' Raise a ValueError when encounters an unknown value. Check https://github.com/scikit-learn/scikit-learn/pull/13423\n",
        "    ('encoding', OrdinalEncoder())\n",
        "])\n",
        "\n",
        "\n",
        "# Helper function\n",
        "\n",
        "def get_card_split(df, cols, n=11):\n",
        "    cond = df[cols].nunique() > n\n",
        "    card_high = cols[cond]\n",
        "    card_low  = cols[~cond]\n",
        "    return card_low, card_high\n"
      ],
      "execution_count": null,
      "outputs": []
    },
    {
      "cell_type": "code",
      "metadata": {
        "id": "-s9A8pJecpvk",
        "colab_type": "code",
        "colab": {}
      },
      "source": [
        "class AgnosticRegressor:\n",
        "  def __init__(self, verbose=0, ignore_warnings=True, custom_metric = None, predictions = False,random_state=42):\n",
        "        self.verbose = verbose\n",
        "        self.ignore_warnings = ignore_warnings\n",
        "        self.custom_metric = custom_metric\n",
        "        self.predictions = predictions\n",
        "        self.random_state = random_state\n",
        "\n",
        "  def fit(self, X_train, X_test, y_train, y_test):\n",
        "      R2 = []\n",
        "      RMSE = []\n",
        "      names = []\n",
        "      TIME = []\n",
        "      predictions = {}\n",
        "        \n",
        "      if self.custom_metric != None:\n",
        "          CUSTOM_METRIC = []\n",
        "\n",
        "      if type(X_train) is np.ndarray:\n",
        "          X_train = pd.DataFrame(X_train)\n",
        "          X_test = pd.DataFrame(X_test)\n",
        "\n",
        "      numeric_features = X_train.select_dtypes(\n",
        "          include=['int64', 'float64', 'int32', 'float32']).columns\n",
        "      categorical_features = X_train.select_dtypes(\n",
        "          include=['object']).columns\n",
        "        \n",
        "      categorical_low, categorical_high = get_card_split(X_train, categorical_features)\n",
        "\n",
        "      preprocessor = ColumnTransformer(\n",
        "          transformers=[\n",
        "              ('numeric', numeric_transformer, numeric_features),\n",
        "              ('categorical_low', categorical_transformer_low, categorical_low),\n",
        "              ('categorical_high', categorical_transformer_high, categorical_high)\n",
        "          ])\n",
        "\n",
        "      for name, model in tqdm(REGRESSORS):\n",
        "          start = time.time()\n",
        "          try:\n",
        "              if 'random_state' in model().get_params().keys():\n",
        "                  pipe = Pipeline(steps=[\n",
        "                      ('preprocessor', preprocessor),\n",
        "                      ('regressor', model(random_state = self.random_state))\n",
        "                  ])\n",
        "              else:\n",
        "                  pipe = Pipeline(steps=[\n",
        "                  ('preprocessor', preprocessor),\n",
        "                  ('regressor', model())\n",
        "              ])\n",
        "              pipe.fit(X_train, y_train)\n",
        "              y_pred = pipe.predict(X_test)\n",
        "              r_squared = r2_score(y_test, y_pred)\n",
        "              rmse = np.sqrt(mean_squared_error(y_test, y_pred))\n",
        "              names.append(name)\n",
        "              R2.append(r_squared)\n",
        "              RMSE.append(rmse)\n",
        "              TIME.append(time.time() - start)\n",
        "              if self.custom_metric != None:\n",
        "                  custom_metric = self.custom_metric(y_test, y_pred)\n",
        "                  CUSTOM_METRIC.append(custom_metric)\n",
        "\n",
        "              if self.verbose > 0:\n",
        "                  if self.custom_metric != None:\n",
        "                      print({\"Model\": name,\n",
        "                              \"R-Squared\": r_squared,\n",
        "                              \"RMSE\": rmse,\n",
        "                              self.custom_metric.__name__: custom_metric,\n",
        "                            \"Time taken\": time.time() - start})\n",
        "                  else:\n",
        "                      print({\"Model\": name,\n",
        "                              \"R-Squared\": r_squared,\n",
        "                              \"RMSE\": rmse,\n",
        "                            \"Time taken\": time.time() - start})\n",
        "              if self.predictions == True:\n",
        "                  predictions[name]=y_pred\n",
        "          except Exception as exception:\n",
        "              if self.ignore_warnings == False:\n",
        "                  print(name + \" model failed to execute\")\n",
        "                  print(exception)\n",
        "                    \n",
        "      if self.custom_metric == None:\n",
        "          scores = pd.DataFrame({\"Model\": names, \n",
        "                                  \"R-Squared\": R2, \n",
        "                                  \"RMSE\": RMSE,\n",
        "                                  \"Time Taken\": TIME})\n",
        "      else:\n",
        "          scores = pd.DataFrame({\"Model\": names, \n",
        "                                  \"R-Squared\": R2, \n",
        "                                  \"RMSE\": RMSE,\n",
        "                                self.custom_metric.__name__: CUSTOM_METRIC,\n",
        "                                \"Time Taken\": TIME})\n",
        "      scores = scores.sort_values(\n",
        "          by='R-Squared', ascending=False).set_index('Model')\n",
        "\n",
        "      return scores  \n",
        "\n",
        "\n",
        "\n",
        "  def pred(self, X,y,data_tom):\n",
        "    names = []\n",
        "    tom = []\n",
        "    \n",
        "    if type(X) is np.ndarray:\n",
        "      X = pd.DataFrame(X)\n",
        "    \n",
        "    numeric_features = X.select_dtypes(\n",
        "        include=['int64', 'float64', 'int32', 'float32']).columns\n",
        "    categorical_features = X.select_dtypes(\n",
        "        include=['object']).columns\n",
        "        \n",
        "    categorical_low, categorical_high = get_card_split(X, categorical_features)\n",
        "\n",
        "    preprocessor = ColumnTransformer(\n",
        "        transformers=[\n",
        "            ('numeric', numeric_transformer, numeric_features),\n",
        "            ('categorical_low', categorical_transformer_low, categorical_low),\n",
        "            ('categorical_high', categorical_transformer_high, categorical_high)\n",
        "                    ])\n",
        "\n",
        "    for name, model in tqdm(REGRESSORS):\n",
        "      try:\n",
        "        start = time.time()\n",
        "        if 'random_state' in model().get_params().keys():\n",
        "          pipe = Pipeline(steps=[('preprocessor', preprocessor),('regressor', model(random_state = self.random_state))])\n",
        "        else:\n",
        "          pipe = Pipeline(steps=[('preprocessor', preprocessor),('regressor', model())])\n",
        "      \n",
        "        pipe.fit(X, y)\n",
        "        y_tom = pipe.predict(data_tom)\n",
        "        names.append(name)\n",
        "        tom.append(int(y_tom))\n",
        "      \n",
        "      except Exception as exception:\n",
        "        if self.ignore_warnings == False:\n",
        "          print(name + \" model failed to execute\")\n",
        "          print(exception)\n",
        "              \n",
        "    result = pd.DataFrame({\"Model\": names, \n",
        "                           \"Tomorrow's Prediction\":tom, \n",
        "                           })\n",
        "    result = result.set_index('Model')\n",
        "    return result "
      ],
      "execution_count": null,
      "outputs": []
    },
    {
      "cell_type": "code",
      "metadata": {
        "id": "g77VSq1piTLH",
        "colab_type": "code",
        "colab": {}
      },
      "source": [
        "%%capture\n",
        "ma_model = AgnosticRegressor()\n",
        "score = ma_model.fit(X_train, X_test, y_train, y_test)\n",
        "pred = ma_model.pred(X,y,data_tom)\n",
        "result = pd.merge(score, pred, left_index=True, right_index=True)"
      ],
      "execution_count": null,
      "outputs": []
    },
    {
      "cell_type": "code",
      "metadata": {
        "id": "lG1tXCxNMYo0",
        "colab_type": "code",
        "colab": {}
      },
      "source": [
        "Forecast = result[\"Tomorrow's Prediction\"][0]\n",
        "Model = result.index[0]\n",
        "n = int(data_tom['Active Cases'])\n",
        "increase_abs = Forecast - n\n",
        "increase_rate = (Forecast - n)/n\n",
        "decrease_abs = (increase_abs*-1)\n",
        "decrease_rate = (increase_rate*-1)\n",
        "\n",
        "import datetime\n",
        "yesterday = df[-1:].iloc[0,0]\n",
        "yesterday = pd.to_datetime(yesterday)\n",
        "today = yesterday + datetime.timedelta(days=1)\n",
        "tomorrow = yesterday + datetime.timedelta(days=2)"
      ],
      "execution_count": null,
      "outputs": []
    },
    {
      "cell_type": "code",
      "metadata": {
        "id": "e7KUj9-9CSUU",
        "colab_type": "code",
        "colab": {}
      },
      "source": [
        "finmod = [mod for mod in REGRESSORS \n",
        "          if mod[0] == result.index[0] or mod[1] == result.index[0]]"
      ],
      "execution_count": null,
      "outputs": []
    },
    {
      "cell_type": "code",
      "metadata": {
        "id": "dn3SKUmxEi3V",
        "colab_type": "code",
        "colab": {}
      },
      "source": [
        "class FinalRegressor:\n",
        "  def __init__(self, verbose=0, ignore_warnings=True, custom_metric = None, predictions = False,random_state=42):\n",
        "        self.verbose = verbose\n",
        "        self.ignore_warnings = ignore_warnings\n",
        "        self.custom_metric = custom_metric\n",
        "        self.predictions = predictions\n",
        "        self.random_state = random_state\n",
        "\n",
        "  def predplot(self, X_train, X_test, y_train, y_test):\n",
        "    names = []\n",
        "    if type(X_train) is np.ndarray:\n",
        "      X_train = pd.DataFrame(X_train)\n",
        "      X_test = pd.DataFrame(X_test)\n",
        "\n",
        "    numeric_features = X_train.select_dtypes(\n",
        "        include=['int64', 'float64', 'int32', 'float32']).columns\n",
        "    categorical_features = X_train.select_dtypes(\n",
        "        include=['object']).columns\n",
        "        \n",
        "    categorical_low, categorical_high = get_card_split(X_train, categorical_features)\n",
        "\n",
        "    preprocessor = ColumnTransformer(\n",
        "        transformers=[\n",
        "            ('numeric', numeric_transformer, numeric_features),\n",
        "            ('categorical_low', categorical_transformer_low, categorical_low),\n",
        "            ('categorical_high', categorical_transformer_high, categorical_high)\n",
        "        ])\n",
        "\n",
        "    for name, model in tqdm(finmod):\n",
        "      try:\n",
        "        if 'random_state' in model().get_params().keys():\n",
        "          pipe = Pipeline(steps=[('preprocessor', preprocessor),('regressor', model(random_state = self.random_state))])\n",
        "        else:\n",
        "          pipe = Pipeline(steps=[('preprocessor', preprocessor),('regressor', model())])\n",
        "        pipe.fit(X_train, y_train)\n",
        "        y_pred = pipe.predict(X_test)\n",
        "        \n",
        "        y_pred = pd.DataFrame(y_pred)\n",
        "        y_pred.columns = ['Active Cases']\n",
        "        y_pred.index = pd.date_range(end = today, periods=y_pred.shape[0], freq='D',)\n",
        "        \n",
        "        y_test = pd.DataFrame(y_test)\n",
        "        y_test.columns = ['Active Cases']\n",
        "        y_test.index = pd.date_range(end = today, periods=y_test.shape[0], freq='D',)\n",
        "\n",
        "      except Exception as exception:\n",
        "        if self.ignore_warnings == False:\n",
        "          print(name + \" model failed to execute\")\n",
        "          print(exception)\n",
        "\n",
        "      plt.figure(figsize=(10,5))\n",
        "      sns.lineplot(x=y_pred.index, y=y_pred['Active Cases'], data=y_pred, label = 'Forecast').set_title(str(result.index[0])+ ' : Actual Cases vs Forecast Cases count for Last ' +str(int(y_test.shape[0]))+ ' days Day-wise for '+ str(state))\n",
        "      sns.lineplot(x=y_test.index, y=y_test['Active Cases'], data=y_test, label = 'Actual').set_title(str(result.index[0])+ ' : Actual Cases vs Forecast Cases count for Last ' +str(int(y_test.shape[0]))+ ' days Day-wise for '+ str(state))\n",
        "      plt.show()"
      ],
      "execution_count": null,
      "outputs": []
    },
    {
      "cell_type": "code",
      "metadata": {
        "id": "Skhnmt8zanF3",
        "colab_type": "code",
        "colab": {
          "base_uri": "https://localhost:8080/",
          "height": 52
        },
        "outputId": "1f6dcea9-5f15-413a-9f6c-8e1d4e43fd40"
      },
      "source": [
        "best_rsq = result.iloc[0][0]\n",
        "print('Best R-Squared: ' +str(best_rsq))\n",
        "best_rmse = result.iloc[0][1]\n",
        "print('Best RMSE: ' +str(best_rmse))"
      ],
      "execution_count": null,
      "outputs": [
        {
          "output_type": "stream",
          "text": [
            "Best R-Squared: 0.9969870072265038\n",
            "Best RMSE: 97.91569373029088\n"
          ],
          "name": "stdout"
        }
      ]
    },
    {
      "cell_type": "code",
      "metadata": {
        "id": "cz-uxhOtJznQ",
        "colab_type": "code",
        "colab": {
          "base_uri": "https://localhost:8080/",
          "height": 372
        },
        "outputId": "5c078da3-067b-4d90-d4b8-df341dbcfe3c"
      },
      "source": [
        "fin_reg = FinalRegressor()\n",
        "plot = fin_reg.predplot(X_train, X_test, y_train, y_test)"
      ],
      "execution_count": null,
      "outputs": [
        {
          "output_type": "stream",
          "text": [
            "\r  0%|          | 0/1 [00:00<?, ?it/s]"
          ],
          "name": "stderr"
        },
        {
          "output_type": "display_data",
          "data": {
            "image/png": "[encoded data removed]",
            "text/plain": [
              "<Figure size 720x360 with 1 Axes>"
            ]
          },
          "metadata": {
            "tags": [],
            "needs_background": "light"
          }
        },
        {
          "output_type": "stream",
          "text": [
            "100%|██████████| 1/1 [00:00<00:00,  3.84it/s]\n"
          ],
          "name": "stderr"
        }
      ]
    },
    {
      "cell_type": "code",
      "metadata": {
        "id": "e5mzVDaG5eql",
        "colab_type": "code",
        "colab": {
          "base_uri": "https://localhost:8080/",
          "height": 141
        },
        "outputId": "b2e0e296-1cba-46b3-b44c-af100021f356"
      },
      "source": [
        "print('As per the forecasting performed by ' +str(Model)+ ' model, ')\n",
        "if (n < Forecast):\n",
        "  print('the active COVID-19 cases count of ' +str(state)+ ' is estimated to increase by ')\n",
        "  print(\"{0:.2%}\".format(increase_rate)+ ' (absolute count = ' +str(increase_abs)+ ') tomorrow (' + str(tomorrow)+ ') , taking the state total to ' +str(Forecast)+ '.')\n",
        "elif (n == Forecast):\n",
        "  print('the active COVID-19 cases count of ' +str(state)+ ' will not increase tomorrow (' + str(tomorrow)+ ').')\n",
        "  print('The state total will remain constant at ' +str(Forecast)+ '.')\n",
        "else:\n",
        "  print('the active COVID-19 cases count of ' +str(state)+ ' is estimated to decrease by ')\n",
        "  print(\"{0:.2%}\".format(decrease_rate)+ ' (absolute count = ' +str(decrease_abs)+ ') tomorrow (' + str(tomorrow)+ ') , taking the state total of active cases to ' +str(Forecast)+ '.')\n",
        "print('\\n')  \n",
        "print('Disclaimer: The estimated aboslute figures can deviate within 5%.')\n",
        "print('* Thank You for visiting, hope you found the information useful *')\n"
      ],
      "execution_count": null,
      "outputs": [
        {
          "output_type": "stream",
          "text": [
            "As per the forecasting performed by Lasso model, \n",
            "the active COVID-19 cases count of West Bengal is estimated to increase by \n",
            "6.60% (absolute count = 1088) tomorrow (2020-07-21 00:00:00) , taking the state total to 17580.\n",
            "\n",
            "\n",
            "Disclaimer: The estimated aboslute figures can deviate within 5%.\n",
            "* Thank You for visiting, hope you found the information useful *\n"
          ],
          "name": "stdout"
        }
      ]
    },
    {
      "cell_type": "code",
      "metadata": {
        "colab_type": "code",
        "id": "51bDibvxhsyX",
        "colab": {
          "base_uri": "https://localhost:8080/",
          "height": 106
        },
        "outputId": "d7e4f255-286b-47d8-e50d-5e968621657b"
      },
      "source": [
        "input_days = input(\"For how many days do you want to see the Covid-19 forecast for \" +str(state)+ \" ? \")\n",
        "days = int(input_days)+1\n",
        "time_taken = int(int(days/5)*2.9)\n",
        "\n",
        "print('\\n')\n",
        "if int(input_days) ==1:\n",
        "  print('Thank you. Please give us few minutes to calculate Covid-19 forecast of ' +str(input_days)+ ' day for ' + str(state)+ '.')\n",
        "else:\n",
        "  print('Thank you. Please give us few minutes to calculate Covid-19 forecast of ' +str(input_days)+ ' days for ' + str(state)+ '.')\n",
        "\n",
        "if int(time_taken) <=1:\n",
        "  print('Approximate time for calculation is ' +str(time_taken)+ ' minute, please scroll down.')\n",
        "else:\n",
        "  print('Approximate time for calculation is ' +str(time_taken)+ ' minutes, please scroll down.')"
      ],
      "execution_count": null,
      "outputs": [
        {
          "output_type": "stream",
          "text": [
            "For how many days do you want to see the Covid-19 forecast for West Bengal ? 135\n",
            "\n",
            "\n",
            "Thank you. Please give us few minutes to calculate Covid-19 forecast of 135 days for West Bengal.\n",
            "Approximate time for calculation is 60 minutes, please scroll down.\n"
          ],
          "name": "stdout"
        }
      ]
    },
    {
      "cell_type": "code",
      "metadata": {
        "colab_type": "code",
        "id": "qsB5MEus02HI",
        "colab": {}
      },
      "source": [
        "#Raw data\n",
        "data_tests = pd.read_csv(\"/content/drive/My Drive/Covid19 India/Tests_edited.csv\")\n",
        "data_cases = pd.read_csv(\"/content/drive/My Drive/Covid19 India/Cases_edited.csv\")"
      ],
      "execution_count": null,
      "outputs": []
    },
    {
      "cell_type": "code",
      "metadata": {
        "colab_type": "code",
        "id": "FnZexYZJ02HR",
        "colab": {}
      },
      "source": [
        "data_tests['Tests-Positive ratio'] = data_tests['Positive']/data_tests['TotalSamples']\n",
        "data_cases['Active Cases'] =  data_cases['Confirmed'] - data_cases['Cured'] - data_cases['Deaths']\n",
        "data_cases['Active Cases ratio'] =  data_cases['Active Cases']/data_cases['Confirmed']\n",
        "data_cases['Mortality'] =  data_cases['Deaths']/data_cases['Confirmed']"
      ],
      "execution_count": null,
      "outputs": []
    },
    {
      "cell_type": "code",
      "metadata": {
        "colab_type": "code",
        "id": "kPldJgX802HY",
        "colab": {}
      },
      "source": [
        "data_cases = data_cases[data_cases['State/UnionTerritory'] == state]\n",
        "data_tests = data_tests[data_tests['State'] == state]\n",
        "df = pd.merge(data_cases, data_tests, on='Date')\n",
        "df = df.drop(['State'], axis=1)\n",
        "df = df.dropna()\n",
        "df = df.reset_index(drop=True)\n",
        "\n",
        "from datetime import date\n",
        "from datetime import datetime\n",
        "for i in range(len(df)):\n",
        "  df.Date.iloc[i] = datetime.fromordinal(datetime(1900, 1, 1).toordinal() + df.Date.iloc[i] - 2)\n",
        "df['Date'] = df['Date'].dt.strftime('%m/%d/%Y')\n",
        "df_cal = df\n",
        "df_cal.Positive = (df_cal.Positive).astype(int)\n",
        "org_len = len(df_cal)"
      ],
      "execution_count": null,
      "outputs": []
    },
    {
      "cell_type": "code",
      "metadata": {
        "id": "UkdsspACs4CU",
        "colab_type": "code",
        "colab": {}
      },
      "source": [
        "df_duration = df_cal[['Date', 'State/UnionTerritory', 'Cured', 'Deaths', 'Confirmed', 'TotalSamples', 'Positive']]\n",
        "\n",
        "#Calculate difference from inception\n",
        "df_duration['Date']= pd.to_datetime(df_duration['Date'])\n",
        "x = df_duration.Date.min()\n",
        "for i in range(len(df_duration)):\n",
        "  df_duration['Date'][i] = (df_duration['Date'][i] - x).days\n",
        "df_duration = df_duration[['State/UnionTerritory', 'Date',  'TotalSamples', 'Confirmed', 'Cured', 'Deaths', 'Positive']]\n",
        "df_duration.rename(columns={'Date': 'Duration'}, inplace=True)"
      ],
      "execution_count": null,
      "outputs": []
    },
    {
      "cell_type": "code",
      "metadata": {
        "id": "0kda_ZOt1yxS",
        "colab_type": "code",
        "colab": {
          "base_uri": "https://localhost:8080/",
          "height": 388
        },
        "outputId": "f2cb9a52-5ddd-4ed5-8a5a-4bbc1f1d338f"
      },
      "source": [
        "%%capture\n",
        "df_cal = df_duration.iloc[:,1:]\n",
        "col_list = df_cal.columns[1:]\n",
        "\n",
        "my_dict = {}\n",
        "model_dict = {}\n",
        "for i in range(days):\n",
        "  for column in col_list:\n",
        "    print(column)\n",
        "    df_cal['Target'] = df_cal[column]\n",
        "    df_cal['Target'][0:-1] = df_cal[column][1:]\n",
        "    df = df_cal[:-1]\n",
        "        \n",
        "    X, y = df.iloc[:,0:6], df.Target\n",
        "    X = X.astype(np.float32)\n",
        "    offset = int(X.shape[0] * split)\n",
        "    X_train, y_train = X[:offset], y[:offset]\n",
        "    X_test, y_test = X[offset:], y[offset:]\n",
        "    data_tom = df_cal[-1:].iloc[:,0:6]\n",
        "\n",
        "    ma_model = AgnosticRegressor()\n",
        "    score = ma_model.fit(X_train, X_test, y_train, y_test) \n",
        "    pred = ma_model.pred(X,y,data_tom);\n",
        "    result = pd.merge(score, pred, left_index=True, right_index=True)\n",
        "\n",
        "    outcome = result[\"Tomorrow's Prediction\"][0]\n",
        "    my_dict['Duration'] = [int(int(data_tom.iloc[0,0])+1)]\n",
        "    my_dict[column] = [outcome]\n",
        "\n",
        "    if i in model_dict.keys():\n",
        "      model_dict[i].append(result.index[0])\n",
        "    else:\n",
        "      model_dict[i] = [result.index[0]]\n",
        "      \n",
        "  df_step = pd.DataFrame(my_dict)\n",
        "  df_cal = df_cal.append(df_step)"
      ],
      "execution_count": null,
      "outputs": [
        {
          "output_type": "error",
          "ename": "ValueError",
          "evalue": "ignored",
          "traceback": [
            "\u001b[0;31m---------------------------------------------------------------------------\u001b[0m",
            "\u001b[0;31mValueError\u001b[0m                                Traceback (most recent call last)",
            "\u001b[0;32m<ipython-input-32-24e61bc367e5>\u001b[0m in \u001b[0;36m<module>\u001b[0;34m()\u001b[0m\n\u001b[1;32m     19\u001b[0m     \u001b[0mma_model\u001b[0m \u001b[0;34m=\u001b[0m \u001b[0mAgnosticRegressor\u001b[0m\u001b[0;34m(\u001b[0m\u001b[0;34m)\u001b[0m\u001b[0;34m\u001b[0m\u001b[0;34m\u001b[0m\u001b[0m\n\u001b[1;32m     20\u001b[0m     \u001b[0mscore\u001b[0m \u001b[0;34m=\u001b[0m \u001b[0mma_model\u001b[0m\u001b[0;34m.\u001b[0m\u001b[0mfit\u001b[0m\u001b[0;34m(\u001b[0m\u001b[0mX_train\u001b[0m\u001b[0;34m,\u001b[0m \u001b[0mX_test\u001b[0m\u001b[0;34m,\u001b[0m \u001b[0my_train\u001b[0m\u001b[0;34m,\u001b[0m \u001b[0my_test\u001b[0m\u001b[0;34m)\u001b[0m\u001b[0;34m\u001b[0m\u001b[0;34m\u001b[0m\u001b[0m\n\u001b[0;32m---> 21\u001b[0;31m     \u001b[0mpred\u001b[0m \u001b[0;34m=\u001b[0m \u001b[0mma_model\u001b[0m\u001b[0;34m.\u001b[0m\u001b[0mpred\u001b[0m\u001b[0;34m(\u001b[0m\u001b[0mX\u001b[0m\u001b[0;34m,\u001b[0m\u001b[0my\u001b[0m\u001b[0;34m,\u001b[0m\u001b[0mdata_tom\u001b[0m\u001b[0;34m)\u001b[0m\u001b[0;34m;\u001b[0m\u001b[0;34m\u001b[0m\u001b[0;34m\u001b[0m\u001b[0m\n\u001b[0m\u001b[1;32m     22\u001b[0m     \u001b[0mresult\u001b[0m \u001b[0;34m=\u001b[0m \u001b[0mpd\u001b[0m\u001b[0;34m.\u001b[0m\u001b[0mmerge\u001b[0m\u001b[0;34m(\u001b[0m\u001b[0mscore\u001b[0m\u001b[0;34m,\u001b[0m \u001b[0mpred\u001b[0m\u001b[0;34m,\u001b[0m \u001b[0mleft_index\u001b[0m\u001b[0;34m=\u001b[0m\u001b[0;32mTrue\u001b[0m\u001b[0;34m,\u001b[0m \u001b[0mright_index\u001b[0m\u001b[0;34m=\u001b[0m\u001b[0;32mTrue\u001b[0m\u001b[0;34m)\u001b[0m\u001b[0;34m\u001b[0m\u001b[0;34m\u001b[0m\u001b[0m\n\u001b[1;32m     23\u001b[0m \u001b[0;34m\u001b[0m\u001b[0m\n",
            "\u001b[0;32m<ipython-input-19-87b1c6ed44d3>\u001b[0m in \u001b[0;36mpred\u001b[0;34m(self, X, y, data_tom)\u001b[0m\n\u001b[1;32m    137\u001b[0m \u001b[0;34m\u001b[0m\u001b[0m\n\u001b[1;32m    138\u001b[0m     result = pd.DataFrame({\"Model\": names, \n\u001b[0;32m--> 139\u001b[0;31m                            \u001b[0;34m\"Tomorrow's Prediction\"\u001b[0m\u001b[0;34m:\u001b[0m\u001b[0mtom\u001b[0m\u001b[0;34m,\u001b[0m\u001b[0;34m\u001b[0m\u001b[0;34m\u001b[0m\u001b[0m\n\u001b[0m\u001b[1;32m    140\u001b[0m                            })\n\u001b[1;32m    141\u001b[0m     \u001b[0mresult\u001b[0m \u001b[0;34m=\u001b[0m \u001b[0mresult\u001b[0m\u001b[0;34m.\u001b[0m\u001b[0mset_index\u001b[0m\u001b[0;34m(\u001b[0m\u001b[0;34m'Model'\u001b[0m\u001b[0;34m)\u001b[0m\u001b[0;34m\u001b[0m\u001b[0;34m\u001b[0m\u001b[0m\n",
            "\u001b[0;32m/usr/local/lib/python3.6/dist-packages/pandas/core/frame.py\u001b[0m in \u001b[0;36m__init__\u001b[0;34m(self, data, index, columns, dtype, copy)\u001b[0m\n\u001b[1;32m    433\u001b[0m             )\n\u001b[1;32m    434\u001b[0m         \u001b[0;32melif\u001b[0m \u001b[0misinstance\u001b[0m\u001b[0;34m(\u001b[0m\u001b[0mdata\u001b[0m\u001b[0;34m,\u001b[0m \u001b[0mdict\u001b[0m\u001b[0;34m)\u001b[0m\u001b[0;34m:\u001b[0m\u001b[0;34m\u001b[0m\u001b[0;34m\u001b[0m\u001b[0m\n\u001b[0;32m--> 435\u001b[0;31m             \u001b[0mmgr\u001b[0m \u001b[0;34m=\u001b[0m \u001b[0minit_dict\u001b[0m\u001b[0;34m(\u001b[0m\u001b[0mdata\u001b[0m\u001b[0;34m,\u001b[0m \u001b[0mindex\u001b[0m\u001b[0;34m,\u001b[0m \u001b[0mcolumns\u001b[0m\u001b[0;34m,\u001b[0m \u001b[0mdtype\u001b[0m\u001b[0;34m=\u001b[0m\u001b[0mdtype\u001b[0m\u001b[0;34m)\u001b[0m\u001b[0;34m\u001b[0m\u001b[0;34m\u001b[0m\u001b[0m\n\u001b[0m\u001b[1;32m    436\u001b[0m         \u001b[0;32melif\u001b[0m \u001b[0misinstance\u001b[0m\u001b[0;34m(\u001b[0m\u001b[0mdata\u001b[0m\u001b[0;34m,\u001b[0m \u001b[0mma\u001b[0m\u001b[0;34m.\u001b[0m\u001b[0mMaskedArray\u001b[0m\u001b[0;34m)\u001b[0m\u001b[0;34m:\u001b[0m\u001b[0;34m\u001b[0m\u001b[0;34m\u001b[0m\u001b[0m\n\u001b[1;32m    437\u001b[0m             \u001b[0;32mimport\u001b[0m \u001b[0mnumpy\u001b[0m\u001b[0;34m.\u001b[0m\u001b[0mma\u001b[0m\u001b[0;34m.\u001b[0m\u001b[0mmrecords\u001b[0m \u001b[0;32mas\u001b[0m \u001b[0mmrecords\u001b[0m\u001b[0;34m\u001b[0m\u001b[0;34m\u001b[0m\u001b[0m\n",
            "\u001b[0;32m/usr/local/lib/python3.6/dist-packages/pandas/core/internals/construction.py\u001b[0m in \u001b[0;36minit_dict\u001b[0;34m(data, index, columns, dtype)\u001b[0m\n\u001b[1;32m    252\u001b[0m             \u001b[0marr\u001b[0m \u001b[0;32mif\u001b[0m \u001b[0;32mnot\u001b[0m \u001b[0mis_datetime64tz_dtype\u001b[0m\u001b[0;34m(\u001b[0m\u001b[0marr\u001b[0m\u001b[0;34m)\u001b[0m \u001b[0;32melse\u001b[0m \u001b[0marr\u001b[0m\u001b[0;34m.\u001b[0m\u001b[0mcopy\u001b[0m\u001b[0;34m(\u001b[0m\u001b[0;34m)\u001b[0m \u001b[0;32mfor\u001b[0m \u001b[0marr\u001b[0m \u001b[0;32min\u001b[0m \u001b[0marrays\u001b[0m\u001b[0;34m\u001b[0m\u001b[0;34m\u001b[0m\u001b[0m\n\u001b[1;32m    253\u001b[0m         ]\n\u001b[0;32m--> 254\u001b[0;31m     \u001b[0;32mreturn\u001b[0m \u001b[0marrays_to_mgr\u001b[0m\u001b[0;34m(\u001b[0m\u001b[0marrays\u001b[0m\u001b[0;34m,\u001b[0m \u001b[0mdata_names\u001b[0m\u001b[0;34m,\u001b[0m \u001b[0mindex\u001b[0m\u001b[0;34m,\u001b[0m \u001b[0mcolumns\u001b[0m\u001b[0;34m,\u001b[0m \u001b[0mdtype\u001b[0m\u001b[0;34m=\u001b[0m\u001b[0mdtype\u001b[0m\u001b[0;34m)\u001b[0m\u001b[0;34m\u001b[0m\u001b[0;34m\u001b[0m\u001b[0m\n\u001b[0m\u001b[1;32m    255\u001b[0m \u001b[0;34m\u001b[0m\u001b[0m\n\u001b[1;32m    256\u001b[0m \u001b[0;34m\u001b[0m\u001b[0m\n",
            "\u001b[0;32m/usr/local/lib/python3.6/dist-packages/pandas/core/internals/construction.py\u001b[0m in \u001b[0;36marrays_to_mgr\u001b[0;34m(arrays, arr_names, index, columns, dtype)\u001b[0m\n\u001b[1;32m     62\u001b[0m     \u001b[0;31m# figure out the index, if necessary\u001b[0m\u001b[0;34m\u001b[0m\u001b[0;34m\u001b[0m\u001b[0;34m\u001b[0m\u001b[0m\n\u001b[1;32m     63\u001b[0m     \u001b[0;32mif\u001b[0m \u001b[0mindex\u001b[0m \u001b[0;32mis\u001b[0m \u001b[0;32mNone\u001b[0m\u001b[0;34m:\u001b[0m\u001b[0;34m\u001b[0m\u001b[0;34m\u001b[0m\u001b[0m\n\u001b[0;32m---> 64\u001b[0;31m         \u001b[0mindex\u001b[0m \u001b[0;34m=\u001b[0m \u001b[0mextract_index\u001b[0m\u001b[0;34m(\u001b[0m\u001b[0marrays\u001b[0m\u001b[0;34m)\u001b[0m\u001b[0;34m\u001b[0m\u001b[0;34m\u001b[0m\u001b[0m\n\u001b[0m\u001b[1;32m     65\u001b[0m     \u001b[0;32melse\u001b[0m\u001b[0;34m:\u001b[0m\u001b[0;34m\u001b[0m\u001b[0;34m\u001b[0m\u001b[0m\n\u001b[1;32m     66\u001b[0m         \u001b[0mindex\u001b[0m \u001b[0;34m=\u001b[0m \u001b[0mensure_index\u001b[0m\u001b[0;34m(\u001b[0m\u001b[0mindex\u001b[0m\u001b[0;34m)\u001b[0m\u001b[0;34m\u001b[0m\u001b[0;34m\u001b[0m\u001b[0m\n",
            "\u001b[0;32m/usr/local/lib/python3.6/dist-packages/pandas/core/internals/construction.py\u001b[0m in \u001b[0;36mextract_index\u001b[0;34m(data)\u001b[0m\n\u001b[1;32m    363\u001b[0m             \u001b[0mlengths\u001b[0m \u001b[0;34m=\u001b[0m \u001b[0mlist\u001b[0m\u001b[0;34m(\u001b[0m\u001b[0mset\u001b[0m\u001b[0;34m(\u001b[0m\u001b[0mraw_lengths\u001b[0m\u001b[0;34m)\u001b[0m\u001b[0;34m)\u001b[0m\u001b[0;34m\u001b[0m\u001b[0;34m\u001b[0m\u001b[0m\n\u001b[1;32m    364\u001b[0m             \u001b[0;32mif\u001b[0m \u001b[0mlen\u001b[0m\u001b[0;34m(\u001b[0m\u001b[0mlengths\u001b[0m\u001b[0;34m)\u001b[0m \u001b[0;34m>\u001b[0m \u001b[0;36m1\u001b[0m\u001b[0;34m:\u001b[0m\u001b[0;34m\u001b[0m\u001b[0;34m\u001b[0m\u001b[0m\n\u001b[0;32m--> 365\u001b[0;31m                 \u001b[0;32mraise\u001b[0m \u001b[0mValueError\u001b[0m\u001b[0;34m(\u001b[0m\u001b[0;34m\"arrays must all be same length\"\u001b[0m\u001b[0;34m)\u001b[0m\u001b[0;34m\u001b[0m\u001b[0;34m\u001b[0m\u001b[0m\n\u001b[0m\u001b[1;32m    366\u001b[0m \u001b[0;34m\u001b[0m\u001b[0m\n\u001b[1;32m    367\u001b[0m             \u001b[0;32mif\u001b[0m \u001b[0mhave_dicts\u001b[0m\u001b[0;34m:\u001b[0m\u001b[0;34m\u001b[0m\u001b[0;34m\u001b[0m\u001b[0m\n",
            "\u001b[0;31mValueError\u001b[0m: arrays must all be same length"
          ]
        }
      ]
    },
    {
      "cell_type": "code",
      "metadata": {
        "id": "IZ3FZpLvVzyM",
        "colab_type": "code",
        "colab": {}
      },
      "source": [
        "df_forecast = df_cal.iloc[org_len:,1:5]\n",
        "\n",
        "place = []\n",
        "for i in range(len(df_forecast)):\n",
        "  place.append(state)\n",
        "df_forecast.insert(0, \"State/UnionTerritory\", place, True)\n",
        "\n",
        "df_forecast.index = pd.date_range(start = tomorrow, periods=df_forecast.shape[0], freq='D',)\n",
        "Date = []\n",
        "for day in df_forecast.index:\n",
        "  Date.append(day)\n",
        "df_forecast.insert(0, \"Date\", Date, True)\n",
        "df_forecast = df_forecast.reset_index(drop=True)\n",
        "\n",
        "active_cases = []\n",
        "for i in range(len(df_forecast)):\n",
        "  active_cases.append(df_forecast.Confirmed[i] - df_forecast.Cured[i] - df_forecast.Deaths[i])\n",
        "df_forecast.insert(6, \"Active Cases\", active_cases, True)\n",
        "\n",
        "norm_active_cases = []\n",
        "for i in range(len(df_forecast)):\n",
        "  norm_active_cases.append(df_forecast['Active Cases'][i]/df_forecast.Confirmed[i])\n",
        "df_forecast.insert(7, \"Active Cases ratio\", norm_active_cases, True)\n",
        "\n",
        "mortality = []\n",
        "for i in range(len(df_forecast)):\n",
        "  mortality.append(df_forecast['Deaths'][i]/df_forecast.Confirmed[i])\n",
        "df_forecast.insert(8, \"Mortality\", mortality, True)\n",
        "\n",
        "tp_ratio = []\n",
        "for i in range(len(df_forecast)):\n",
        "  if (i+1) == len(df_forecast):\n",
        "    tp_ratio.append(df_forecast['Confirmed'][i]/df_forecast.TotalSamples[i])\n",
        "  else:\n",
        "    tp_ratio.append(df_forecast['Confirmed'][i+1]/df_forecast.TotalSamples[i])\n",
        "df_forecast.insert(9, \"Tests-Positive ratio\", tp_ratio, True)\n",
        "df_forecast = df_forecast[:-1]"
      ],
      "execution_count": null,
      "outputs": []
    },
    {
      "cell_type": "code",
      "metadata": {
        "id": "CyjuPZvOxy5I",
        "colab_type": "code",
        "colab": {}
      },
      "source": [
        "pred_models = pd.DataFrame(model_dict).T\n",
        "pred_models.columns = ['TotalSamples_Model','Confirmed_Model','Cured_Model','Deaths_Model','Positive_Model']\n",
        "pred_models.reset_index(drop=True)\n",
        "df_forecast.reset_index(drop=True)\n",
        "df_full = pd.concat([df_forecast,pred_models], axis = 1)\n",
        "df_full = df_full.iloc[:-1,0:-1]"
      ],
      "execution_count": null,
      "outputs": []
    },
    {
      "cell_type": "code",
      "metadata": {
        "colab_type": "code",
        "id": "ALSCXMdshszD",
        "colab": {}
      },
      "source": [
        "if int(input_days) ==1:\n",
        "  file_name = 'Forecast_'+str(state)+'_'+str(input_days)+'day.csv'\n",
        "else:\n",
        "  file_name = 'Forecast_'+str(state)+'_'+str(input_days)+'days.csv'\n",
        "df_forecast.to_csv(\"/content/drive/My Drive/Covid19 India/\"+str(file_name))"
      ],
      "execution_count": null,
      "outputs": []
    },
    {
      "cell_type": "code",
      "metadata": {
        "colab_type": "code",
        "id": "t88m1YiphszH",
        "colab": {
          "base_uri": "https://localhost:8080/",
          "height": 1000
        },
        "outputId": "c0c4d25f-08d0-4f4b-bda4-20a8ab412ba4"
      },
      "source": [
        "print('The following forecast would be valid, provided the below conditions:') \n",
        "print('1. ' + str(state)+ ' continues to increase Covid-19 sample tests in the same rate as it is doing now for the next ' +str(input_days)+ ' days.')\n",
        "print('2. ' + str(state)+ ' Govt. does not deploy any new strategic measure to control the infection surge for the next ' +str(input_days)+ ' days.')\n",
        "print('\\n')\n",
        "if int(input_days) ==1:\n",
        "  print('Showing Covid-19 forecast of ' +str(input_days)+ ' day for ' + str(state)+ ' :-')\n",
        "else:\n",
        "  print('Showing Covid-19 forecast of ' +str(input_days)+ ' days for ' + str(state)+ ' :-')\n",
        "print('\\n')\n",
        "print(df_forecast.to_string(index=False))"
      ],
      "execution_count": null,
      "outputs": [
        {
          "output_type": "stream",
          "text": [
            "The following forecast would be valid, provided the below conditions:\n",
            "1. West Bengal continues to increase Covid-19 sample tests in the same rate as it is doing now for the next 135 days.\n",
            "2. West Bengal Govt. does not deploy any new strategic measure to control the infection surge for the next 135 days.\n",
            "\n",
            "\n",
            "Showing Covid-19 forecast of 135 days for West Bengal :-\n",
            "\n",
            "\n",
            "      Date State/UnionTerritory  TotalSamples  Confirmed    Cured  Deaths  Active Cases  Active Cases ratio  Mortality  Tests-Positive ratio\n",
            "2020-07-21          West Bengal        726636      44779    26033    1142         17604                0.39       0.03                  0.07\n",
            "2020-07-22          West Bengal        737181      47261    27254    1173         18834                0.40       0.02                  0.07\n",
            "2020-07-23          West Bengal        744981      49942    28648    1206         20088                0.40       0.02                  0.07\n",
            "2020-07-24          West Bengal        755595      52840    30133    1240         21467                0.41       0.02                  0.07\n",
            "2020-07-25          West Bengal        765894      55972    31722    1276         22974                0.41       0.02                  0.08\n",
            "2020-07-26          West Bengal        775341      59357    33424    1313         24620                0.41       0.02                  0.08\n",
            "2020-07-27          West Bengal        784303      63015    35247    1351         26417                0.42       0.02                  0.09\n",
            "2020-07-28          West Bengal        791365      66945    37201    1391         28353                0.42       0.02                  0.09\n",
            "2020-07-29          West Bengal        800257      71197    39333    1432         30432                0.43       0.02                  0.09\n",
            "2020-07-30          West Bengal        807237      75801    41582    1475         32744                0.43       0.02                  0.10\n",
            "2020-07-31          West Bengal        745938      80784    43996    1520         35268                0.44       0.02                  0.12\n",
            "2020-08-01          West Bengal        730064      86175    46438    1567         38170                0.44       0.02                  0.13\n",
            "2020-08-02          West Bengal        709964      92065    49049    1617         41399                0.45       0.02                  0.14\n",
            "2020-08-03          West Bengal        685648      98498    51850    1669         44979                0.46       0.02                  0.15\n",
            "2020-08-04          West Bengal        666944     105525    54865    1724         48936                0.46       0.02                  0.17\n",
            "2020-08-05          West Bengal        653930     113198    58147    1782         53269                0.47       0.02                  0.19\n",
            "2020-08-06          West Bengal        645725     121552    61748    1842         57962                0.48       0.02                  0.20\n",
            "2020-08-07          West Bengal        641180     130698    65714    1905         63079                0.48       0.01                  0.22\n",
            "2020-08-08          West Bengal        639276     140655    70092    1971         68592                0.49       0.01                  0.24\n",
            "2020-08-09          West Bengal        639215     151536    74916    2040         74580                0.49       0.01                  0.26\n",
            "2020-08-10          West Bengal        620946     163332    80218    2112         81002                0.50       0.01                  0.28\n",
            "2020-08-11          West Bengal        600045     176123    85951    2188         87984                0.50       0.01                  0.32\n",
            "2020-08-12          West Bengal        601759     190074    92148    2268         95658                0.50       0.01                  0.34\n",
            "2020-08-13          West Bengal        603548     205215    98952    2351        103912                0.51       0.01                  0.37\n",
            "2020-08-14          West Bengal        605409     221626   106379    2438        112809                0.51       0.01                  0.40\n",
            "2020-08-15          West Bengal        607340     239482   114459    2529        122494                0.51       0.01                  0.43\n",
            "2020-08-16          West Bengal        609337     258865   123232    2624        133009                0.51       0.01                  0.46\n",
            "2020-08-17          West Bengal        611398     279926   132742    2724        144460                0.52       0.01                  0.50\n",
            "2020-08-18          West Bengal        613520     302782   143043    2828        156911                0.52       0.01                  0.53\n",
            "2020-08-19          West Bengal        615701     327592   153106    2937        171549                0.52       0.01                  0.58\n",
            "2020-08-20          West Bengal        617937     354747   164411    3036        187300                0.53       0.01                  0.62\n",
            "2020-08-21          West Bengal        620226     384173   177162    3138        203873                0.53       0.01                  0.67\n",
            "2020-08-22          West Bengal        622565     416165   190943    3244        221978                0.53       0.01                  0.72\n",
            "2020-08-23          West Bengal        624951     450943   205992    3353        241598                0.54       0.01                  0.78\n",
            "2020-08-24          West Bengal        627381     488749   222325    3465        262959                0.54       0.01                  0.84\n",
            "2020-08-25          West Bengal        629853     529853   238690    3582        287581                0.54       0.01                  0.91\n",
            "2020-08-26          West Bengal        632365     574540   255362    3703        315475                0.55       0.01                  0.99\n",
            "2020-08-27          West Bengal        634910     623138   275193    3828        344117                0.55       0.01                  1.06\n",
            "2020-08-28          West Bengal        637483     676014   296373    3957        375684                0.56       0.01                  1.15\n",
            "2020-08-29          West Bengal        640082     733669   318629    4090        410950                0.56       0.01                  1.24\n",
            "2020-08-30          West Bengal        642706     796418   342574    4228        449616                0.56       0.01                  1.35\n",
            "2020-08-31          West Bengal        645354     864708   368336    4371        492001                0.57       0.01                  1.46\n",
            "2020-09-01          West Bengal        648023     939058   396052    4519        538487                0.57       0.00                  1.57\n",
            "2020-09-02          West Bengal        650697    1020028   425871    4672        589485                0.58       0.00                  1.70\n",
            "2020-09-03          West Bengal        653369    1108197   457952    4830        645415                0.58       0.00                  1.84\n",
            "2020-09-04          West Bengal        656038    1204302   492467    4993        706842                0.59       0.00                  1.99\n",
            "2020-09-05          West Bengal        658704    1306059   529601    5162        771296                0.59       0.00                  2.15\n",
            "2020-09-06          West Bengal        661367    1416013   569552    5336        841125                0.59       0.00                  2.32\n",
            "2020-09-07          West Bengal        664026    1536823   612895    5516        918412                0.60       0.00                  2.51\n",
            "2020-09-08          West Bengal        666682    1667879   659221    5702       1002956                0.60       0.00                  2.72\n",
            "2020-09-09          West Bengal        669334    1810452   709066    5895       1095491                0.61       0.00                  2.94\n",
            "2020-09-10          West Bengal        671982    1965280   762698    6094       1196488                0.61       0.00                  0.25\n",
            "2020-09-11          West Bengal        674627     170573   820404    6300       -656131               -3.85       0.04                  1.81\n",
            "2020-09-12          West Bengal        677267    1220961   882493    6513        331955                0.27       0.01                  2.19\n",
            "2020-09-13          West Bengal        679903    1483289   949299    6733        527257                0.36       0.00                  2.34\n",
            "2020-09-14          West Bengal        682535    1593124  1021495    6961        564668                0.35       0.00                  2.45\n",
            "2020-09-15          West Bengal        685163    1672688  1098909    7196        566583                0.34       0.00                  2.44\n",
            "2020-09-16          West Bengal        687786    1672688  1182199    7439        483050                0.29       0.00                  2.43\n",
            "2020-09-17          West Bengal        690404    1672688  1271810    7691        393187                0.24       0.00                  2.42\n",
            "2020-09-18          West Bengal        693017    1672688  1368222    7951        296515                0.18       0.00                  2.41\n",
            "2020-09-19          West Bengal        695626    1673004  1471907    8220        192877                0.12       0.00                  2.41\n",
            "2020-09-20          West Bengal        698229    1673004  1583538    8498         80968                0.05       0.01                  2.40\n",
            "2020-09-21          West Bengal        700827    1672940  1703652    8785        -39497               -0.02       0.01                  2.39\n",
            "2020-09-22          West Bengal        703420    1672864  1832806    9082       -169024               -0.10       0.01                  2.18\n",
            "2020-09-23          West Bengal        706008    1533938  1971851    9368       -447281               -0.29       0.01                  2.33\n",
            "2020-09-24          West Bengal        708590    1645150  2121463    9655       -485968               -0.30       0.01                  2.33\n",
            "2020-09-25          West Bengal        711166    1651765  2282444    9935       -640614               -0.39       0.01                  2.32\n",
            "2020-09-26          West Bengal        713737    1649457  2455658   10237       -816438               -0.49       0.01                  2.31\n",
            "2020-09-27          West Bengal        716302    1647560  2642035   10549      -1005024               -0.61       0.01                  2.30\n",
            "2020-09-28          West Bengal        718860    1647220  2842431   10866      -1206077               -0.73       0.01                  2.29\n",
            "2020-09-29          West Bengal        721412    1647767  3058007   11188      -1421428               -0.86       0.01                  2.28\n",
            "2020-09-30          West Bengal        723958    1647701  3290032   11515      -1653846               -1.00       0.01                  2.28\n",
            "2020-10-01          West Bengal        726497    1647770  3539749   11861      -1903840               -1.16       0.01                  2.27\n",
            "2020-10-02          West Bengal        729030    1647603  3808436   12127      -2172960               -1.32       0.01                  2.26\n",
            "2020-10-03          West Bengal        731556    1647476  4097536   12369      -2462429               -1.49       0.01                  2.25\n",
            "2020-10-04          West Bengal        734075    1647434  4408600   12582      -2773748               -1.68       0.01                  2.24\n",
            "2020-10-05          West Bengal        736586    1647416  4743296   12760      -3108640               -1.89       0.01                  2.24\n",
            "2020-10-06          West Bengal        739090    1647417  5103419   12898      -3468900               -2.11       0.01                  2.23\n",
            "2020-10-07          West Bengal        741586    1647469  5490900   12989      -3856420               -2.34       0.01                  2.22\n",
            "2020-10-08          West Bengal        744074    1647469  5907819   13025      -4273375               -2.59       0.01                  2.22\n",
            "2020-10-09          West Bengal        746553    1648284  6356339   11926      -4719981               -2.86       0.01                  2.21\n",
            "2020-10-10          West Bengal        749024    1647583  6838995   11437      -5202849               -3.16       0.01                  2.20\n",
            "2020-10-11          West Bengal        751485    1647476  7358319   10781      -5721624               -3.47       0.01                  2.19\n",
            "2020-10-12          West Bengal        753935    1647483  7917094    9932      -6279543               -3.81       0.01                  2.19\n",
            "2020-10-13          West Bengal        756374    1647578  8518319    8861      -6879602               -4.18       0.01                  2.18\n"
          ],
          "name": "stdout"
        }
      ]
    }
  ]
}